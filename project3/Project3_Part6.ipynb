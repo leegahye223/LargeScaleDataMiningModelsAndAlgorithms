{
 "cells": [
  {
   "cell_type": "markdown",
   "metadata": {},
   "source": [
    "# Naive collaborative filtering"
   ]
  },
  {
   "cell_type": "code",
   "execution_count": 8,
   "metadata": {
    "collapsed": true
   },
   "outputs": [],
   "source": [
    "import time\n",
    "import random\n",
    "import numpy as np\n",
    "import pandas as pd\n",
    "import csv\n",
    "import matplotlib.pyplot as plt\n",
    "from collections import Counter\n",
    "\n",
    "#surprise package\n",
    "from surprise import Reader\n",
    "from surprise import Dataset\n",
    "from surprise import accuracy\n",
    "\n",
    "from surprise import KNNWithMeans\n",
    "from surprise import NMF\n",
    "from surprise import SVD\n",
    "from surprise.model_selection import cross_validate\n",
    "from surprise.model_selection import KFold\n",
    "from surprise.model_selection import train_test_split\n",
    "from surprise.prediction_algorithms.predictions import Prediction\n",
    "from sklearn import metrics\n",
    "from sklearn.metrics import roc_curve, auc"
   ]
  },
  {
   "cell_type": "code",
   "execution_count": 11,
   "metadata": {},
   "outputs": [],
   "source": [
    "#----THIS IS NAIVE COLLABORATIVE FILTERING----#\n",
    "#Part 6\n",
    "\n",
    "class NaiveFilter():\n",
    "    def __init__(self):\n",
    "        self.user_predictor = {}\n",
    "    def fit(self, user_ratings_dict):\n",
    "        self.user_predictor = {}\n",
    "        for user_id, user_ratings in user_ratings_dict.items():\n",
    "            self.user_predictor[user_id]  = np.mean(user_ratings_dict[user_id])\n",
    "    def predict(self, testing_data):\n",
    "        prediction_result_arr = []\n",
    "        for line in testing_data:\n",
    "            user_id = line[0]\n",
    "            predict_rating = self.user_predictor[user_id]\n",
    "            predict_result = Prediction(line[0], line[1], line[2], predict_rating, None)\n",
    "            prediction_result_arr.append(predict_result)\n",
    "        return prediction_result_arr\n",
    "    \n",
    "users_arr = []\n",
    "movies_arr = []\n",
    "rating_arr = []\n",
    "\n",
    "movie_dic = {}\n",
    "user_ratings_dict = {}\n",
    "with open('ratings.csv') as csvRatingFile:\n",
    "    csvReader = csv.reader(csvRatingFile)\n",
    "    #csvReader.readline()   # skip the first line\n",
    "    next(csvReader)\n",
    "    for row in csvReader:  \n",
    "        user_id = int(row[0])\n",
    "        movies_id = int(row[1])\n",
    "        rating = float(row[2])\n",
    "        movie_dic.setdefault(movies_id,[]).append(rating)\n",
    "        user_ratings_dict.setdefault(user_id,[]).append(rating)\n",
    "        users_arr.append(int(row[0]))\n",
    "        movies_arr.append(int(row[1]))\n",
    "        rating_arr.append(float(row[2]))\n",
    "\n",
    "num_ratings = len(rating_arr)\n",
    "num_users = len(np.unique(users_arr))\n",
    "num_movies = len(np.unique(movies_arr))"
   ]
  },
  {
   "cell_type": "code",
   "execution_count": 12,
   "metadata": {},
   "outputs": [
    {
     "name": "stdout",
     "output_type": "stream",
     "text": [
      "RMSE: 1.3833\n",
      "RMSE: 1.3852\n",
      "RMSE: 1.3788\n",
      "RMSE: 1.3772\n",
      "RMSE: 1.3915\n",
      "RMSE: 1.3843\n",
      "RMSE: 1.3744\n",
      "RMSE: 1.3918\n",
      "RMSE: 1.3827\n",
      "RMSE: 1.3797\n",
      "RMSE: 1.3849\n",
      "('avg rmse: ', 1.3830500261241228)\n"
     ]
    }
   ],
   "source": [
    "#Q 31\n",
    "nf = NaiveFilter()        \n",
    "reader = Reader(rating_scale=(0,5))\n",
    "trainset,testset = train_test_split(data,test_size=0.1)\n",
    "nf.fit(user_ratings_dict)\n",
    "r  = nf.predict(testset)\n",
    "accuracy.rmse(r, verbose=True)\n",
    "\n",
    "n_splits = 10\n",
    "kf = KFold(n_splits=n_splits)\n",
    "set_kf = kf.split(data)\n",
    "\n",
    "nf.fit(user_ratings_dict)\n",
    "rmse_sum = 0\n",
    "for trainset, testset in set_kf: #for each of the 10 folds, calculate rmse and mae\n",
    "    predictions = nf.predict(testset)\n",
    "    rmse_sum += accuracy.rmse(predictions, verbose=True)\n",
    "    \n",
    "rmse_avg = rmse_sum/n_splits\n",
    "print(\"avg rmse: \", rmse_avg)"
   ]
  },
  {
   "cell_type": "code",
   "execution_count": 45,
   "metadata": {},
   "outputs": [
    {
     "name": "stdout",
     "output_type": "stream",
     "text": [
      "RMSE: 1.3905\n",
      "RMSE: 1.4260\n",
      "RMSE: 1.4167\n",
      "RMSE: 1.4251\n",
      "RMSE: 1.4096\n",
      "RMSE: 1.4151\n",
      "RMSE: 1.4265\n",
      "RMSE: 1.4140\n",
      "RMSE: 1.4145\n",
      "RMSE: 1.4125\n",
      "RMSE: 1.4231\n",
      "('avg rmse: ', 1.4183049759785384)\n"
     ]
    }
   ],
   "source": [
    "#Q 32\n",
    "nf = NaiveFilter()        \n",
    "reader = Reader(rating_scale=(0,5))\n",
    "trainset,testset = train_test_split(data,test_size=0.1)\n",
    "nf.fit(user_ratings_dict)\n",
    "r  = nf.predict(testset)\n",
    "accuracy.rmse(r, verbose=True)\n",
    "\n",
    "n_splits = 10\n",
    "kf = KFold(n_splits=n_splits)\n",
    "set_kf = kf.split(data)\n",
    "\n",
    "nf.fit(user_ratings_dict)\n",
    "rmse_sum = 0\n",
    "for trainset, testset in set_kf: #for each of the 10 folds, calculate rmse and mae\n",
    "    testset = pd.DataFrame(testset, columns=['userId','movieId','rating'])\n",
    "    testset = testset.groupby('movieId').filter(lambda x: len(x)>2)\n",
    "    testset = np.array(testset).tolist()\n",
    "    predictions = nf.predict(testset)\n",
    "    rmse_sum += accuracy.rmse(predictions, verbose=True)\n",
    "    \n",
    "rmse_avg = rmse_sum/n_splits\n",
    "print(\"avg rmse: \", rmse_avg)"
   ]
  },
  {
   "cell_type": "code",
   "execution_count": 46,
   "metadata": {},
   "outputs": [
    {
     "name": "stdout",
     "output_type": "stream",
     "text": [
      "RMSE: 1.3693\n",
      "RMSE: 1.2986\n",
      "RMSE: 1.2531\n",
      "RMSE: 1.2775\n",
      "RMSE: 1.2875\n",
      "RMSE: 1.2885\n",
      "RMSE: 1.3118\n",
      "RMSE: 1.3161\n",
      "RMSE: 1.3034\n",
      "RMSE: 1.2887\n",
      "RMSE: 1.2845\n",
      "('avg rmse: ', 1.2909739122289225)\n"
     ]
    }
   ],
   "source": [
    "#Q 33\n",
    "nf = NaiveFilter()        \n",
    "reader = Reader(rating_scale=(0,5))\n",
    "trainset,testset = train_test_split(data,test_size=0.1)\n",
    "nf.fit(user_ratings_dict)\n",
    "r  = nf.predict(testset)\n",
    "accuracy.rmse(r, verbose=True)\n",
    "\n",
    "n_splits = 10\n",
    "kf = KFold(n_splits=n_splits)\n",
    "set_kf = kf.split(data)\n",
    "\n",
    "nf.fit(user_ratings_dict)\n",
    "rmse_sum = 0\n",
    "for trainset, testset in set_kf: #for each of the 10 folds, calculate rmse and mae\n",
    "    testset = pd.DataFrame(testset, columns=['userId','movieId','rating'])\n",
    "    testset = testset.groupby('movieId').filter(lambda x: len(x)<2)\n",
    "    testset = np.array(testset).tolist()\n",
    "    predictions = nf.predict(testset)\n",
    "    rmse_sum += accuracy.rmse(predictions, verbose=True)\n",
    "    \n",
    "rmse_avg = rmse_sum/n_splits\n",
    "print(\"avg rmse: \", rmse_avg)"
   ]
  },
  {
   "cell_type": "code",
   "execution_count": 47,
   "metadata": {},
   "outputs": [
    {
     "name": "stdout",
     "output_type": "stream",
     "text": [
      "RMSE: 1.3978\n",
      "RMSE: 1.7345\n",
      "RMSE: 1.5251\n",
      "RMSE: 1.6742\n",
      "RMSE: 1.6040\n",
      "RMSE: 1.6637\n",
      "RMSE: 1.5689\n",
      "RMSE: 1.5904\n",
      "RMSE: 1.4622\n",
      "RMSE: 1.5084\n",
      "RMSE: 1.6369\n",
      "('avg rmse: ', 1.5968301985877393)\n"
     ]
    }
   ],
   "source": [
    "#Q 34\n",
    "nf = NaiveFilter()        \n",
    "reader = Reader(rating_scale=(0,5))\n",
    "trainset,testset = train_test_split(data,test_size=0.1)\n",
    "nf.fit(user_ratings_dict)\n",
    "r  = nf.predict(testset)\n",
    "accuracy.rmse(r, verbose=True)\n",
    "\n",
    "n_splits = 10\n",
    "kf = KFold(n_splits=n_splits)\n",
    "set_kf = kf.split(data)\n",
    "\n",
    "nf.fit(user_ratings_dict)\n",
    "rmse_sum = 0\n",
    "for trainset, testset in set_kf: #for each of the 10 folds, calculate rmse and mae\n",
    "    testset = pd.DataFrame(testset, columns=['userId','movieId','rating'])\n",
    "    testset = testset.groupby('movieId').filter(lambda x: len(x)>5 and np.var(x['rating'])>=2)\n",
    "    testset = np.array(testset).tolist()\n",
    "    predictions = nf.predict(testset)\n",
    "    rmse_sum += accuracy.rmse(predictions, verbose=True)\n",
    "    \n",
    "rmse_avg = rmse_sum/n_splits\n",
    "print(\"avg rmse: \", rmse_avg)"
   ]
  },
  {
   "cell_type": "code",
   "execution_count": null,
   "metadata": {
    "collapsed": true
   },
   "outputs": [],
   "source": []
  }
 ],
 "metadata": {
  "kernelspec": {
   "display_name": "Python 2",
   "language": "python",
   "name": "python2"
  },
  "language_info": {
   "codemirror_mode": {
    "name": "ipython",
    "version": 2
   },
   "file_extension": ".py",
   "mimetype": "text/x-python",
   "name": "python",
   "nbconvert_exporter": "python",
   "pygments_lexer": "ipython2",
   "version": "2.7.14"
  }
 },
 "nbformat": 4,
 "nbformat_minor": 2
}
