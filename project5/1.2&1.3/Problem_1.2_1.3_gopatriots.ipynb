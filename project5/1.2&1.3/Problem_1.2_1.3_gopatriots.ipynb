{
 "cells": [
  {
   "cell_type": "markdown",
   "metadata": {},
   "source": [
    "### Hashtag: gopatriots"
   ]
  },
  {
   "cell_type": "markdown",
   "metadata": {},
   "source": [
    "#### Problem 1.2"
   ]
  },
  {
   "cell_type": "code",
   "execution_count": 1,
   "metadata": {},
   "outputs": [
    {
     "name": "stderr",
     "output_type": "stream",
     "text": [
      "C:\\Users\\tians\\Anaconda3\\lib\\site-packages\\statsmodels\\compat\\pandas.py:56: FutureWarning: The pandas.core.datetools module is deprecated and will be removed in a future version. Please use the pandas.tseries module instead.\n",
      "  from pandas.core import datetools\n"
     ]
    },
    {
     "name": "stdout",
     "output_type": "stream",
     "text": [
      "done\n"
     ]
    }
   ],
   "source": [
    "import json\n",
    "import numpy as np\n",
    "import pandas as pd\n",
    "import matplotlib.pyplot as plt\n",
    "import math\n",
    "import statsmodels.api as sm\n",
    "import statsmodels.formula.api as smf\n",
    "from datetime import datetime as dt\n",
    "import time\n",
    "import pytz\n",
    "from itertools import compress\n",
    "from sklearn import datasets, linear_model\n",
    "from sklearn.metrics import accuracy_score, r2_score, mean_squared_error\n",
    "\n",
    "def reg_m(y, x):\n",
    "    X = sm.add_constant(x)\n",
    "    results = sm.regression.linear_model.OLS(y, X).fit()\n",
    "    return results\n",
    "\n",
    "hashtag = 'gopatriots'\n",
    "data = {}\n",
    "file_path = 'tweets_#' + hashtag + '.txt' \n",
    "tweets_firstpost_date = []\n",
    "tweets_title = []\n",
    "tweets_tweet = []\n",
    "tweets_metrics = []\n",
    "tweets_file = open(file_path, \"rt\" )\n",
    "for line in tweets_file:\n",
    "    try:\n",
    "        tweet = json.loads(line)\n",
    "        tweets_firstpost_date.append(tweet['firstpost_date'])\n",
    "        tweets_tweet.append(tweet['tweet'])\n",
    "        tweets_title.append(tweet['title'])\n",
    "        tweets_metrics .append(tweet['metrics'])\n",
    "    except:\n",
    "        continue\n",
    "    \n",
    "tweets = pd.DataFrame()\n",
    "tweets['firstpost_date'] = tweets_firstpost_date\n",
    "tweets['tweet'] = tweets_tweet\n",
    "tweets['title'] = tweets_title\n",
    "tweets['metrics'] = tweets_metrics\n",
    "Tweet_details = pd.DataFrame.from_records(tweets['tweet'])\n",
    "Metrics = pd.DataFrame.from_records(tweets['metrics'])\n",
    "\n",
    "tweet_user = []\n",
    "for elements in Tweet_details['user']:\n",
    "    tweet_user.append(elements)\n",
    "tweet_user = pd.DataFrame(tweet_user)\n",
    "\n",
    "\n",
    "tweet_initial = 1420102800\n",
    "tweet_final = tweets.firstpost_date[len(tweets.firstpost_date)-1]\n",
    "n_bins = int(math.ceil((tweet_final - tweet_initial)/3600)+1)\n",
    "\n",
    "tweet_initial = [dt.fromtimestamp(1420102800).month,\n",
    "                     dt.fromtimestamp(1420102800).day,\n",
    "                     dt.fromtimestamp(1420102800).hour]\n",
    "Time_stamps = []\n",
    "for x in tweets['firstpost_date']:\n",
    "   Time_stamps.append([dt.fromtimestamp(x).month,  dt.fromtimestamp(x).day,  dt.fromtimestamp(x).hour,\n",
    "                       dt.fromtimestamp(x).year])\n",
    "print('done')"
   ]
  },
  {
   "cell_type": "code",
   "execution_count": 2,
   "metadata": {
    "scrolled": true
   },
   "outputs": [
    {
     "name": "stdout",
     "output_type": "stream",
     "text": [
      "-------------problem_1_2--------------\n",
      "hastag # gopatriots\n",
      "                            OLS Regression Results                            \n",
      "==============================================================================\n",
      "Dep. Variable:                      y   R-squared:                       0.776\n",
      "Model:                            OLS   Adj. R-squared:                  0.774\n",
      "Method:                 Least Squares   F-statistic:                     608.8\n",
      "Date:                Sun, 18 Mar 2018   Prob (F-statistic):          7.25e-283\n",
      "Time:                        16:25:05   Log-Likelihood:                -5483.3\n",
      "No. Observations:                 887   AIC:                         1.098e+04\n",
      "Df Residuals:                     881   BIC:                         1.101e+04\n",
      "Df Model:                           5                                         \n",
      "Covariance Type:            nonrobust                                         \n",
      "==============================================================================\n",
      "                 coef    std err          t      P>|t|      [0.025      0.975]\n",
      "------------------------------------------------------------------------------\n",
      "const          6.5478      7.664      0.854      0.393      -8.493      21.589\n",
      "x1             0.2468      0.572      0.431      0.666      -0.876       1.370\n",
      "x2             0.4815      0.084      5.764      0.000       0.318       0.645\n",
      "x3           -20.1878      0.926    -21.793      0.000     -22.006     -18.370\n",
      "x4             0.0007   7.37e-05      9.431      0.000       0.001       0.001\n",
      "x5            -0.0006   8.77e-05     -7.016      0.000      -0.001      -0.000\n",
      "==============================================================================\n",
      "Omnibus:                     1133.785   Durbin-Watson:                   2.313\n",
      "Prob(Omnibus):                  0.000   Jarque-Bera (JB):          1164649.702\n",
      "Skew:                           5.777   Prob(JB):                         0.00\n",
      "Kurtosis:                     180.141   Cond. No.                     7.40e+05\n",
      "==============================================================================\n",
      "\n",
      "Warnings:\n",
      "[1] Standard Errors assume that the covariance matrix of the errors is correctly specified.\n",
      "[2] The condition number is large, 7.4e+05. This might indicate that there are\n",
      "strong multicollinearity or other numerical problems.\n"
     ]
    }
   ],
   "source": [
    "#problem 1.2\n",
    "print(\"-------------problem_1_2--------------\")\n",
    "n_tweets = np.zeros((n_bins,1))\n",
    "n_retweets = np.zeros((n_bins,1))\n",
    "n_followers = np.zeros((n_bins,1))\n",
    "max_followers = np.zeros((n_bins,1))\n",
    "n_hours = np.zeros((n_bins,1))\n",
    "day_of_week = np.zeros((n_bins,1))\n",
    "index = 0\n",
    "for Time in Time_stamps:\n",
    "    if (Time[3]>2014):\n",
    "        index_2 = (Time[0]-tweet_initial[0])*31*24 + (Time[1]-tweet_initial[1])*24 + (Time[2]-tweet_initial[2])\n",
    "        n_tweets[index_2] += 1\n",
    "        n_retweets[index_2] += Tweet_details.retweet_count[index]\n",
    "        n_followers[index_2] += tweet_user.followers_count[index]\n",
    "        max_followers[index_2] = max(tweet_user.followers_count[index], max_followers[index_2])\n",
    "    index +=1\n",
    "for i in range (0,n_bins):\n",
    "    n_hours[i] = (i+tweet_initial[2]) % 24 \n",
    "    day_of_week[i] = (np.ceil((i+12) / 24)+4) % 7\n",
    "features_1 = np.concatenate((n_hours[0:-1], n_tweets[0:-1], n_retweets[0:-1], n_followers[0:-1], max_followers[0:-1] ), axis=1)\n",
    "\n",
    "# number of tweets for the nect hours\n",
    "target = n_tweets[1:len(n_tweets)] \n",
    "\n",
    "\n",
    "new_model = reg_m(target, features_1)\n",
    "print('hastag #', hashtag)\n",
    "print(new_model.summary())"
   ]
  },
  {
   "cell_type": "markdown",
   "metadata": {},
   "source": [
    "#### Problem 1.3"
   ]
  },
  {
   "cell_type": "code",
   "execution_count": 3,
   "metadata": {},
   "outputs": [
    {
     "name": "stdout",
     "output_type": "stream",
     "text": [
      "-------------problem_1_3--------------\n",
      "hastag # gopatriots\n",
      "                            OLS Regression Results                            \n",
      "==============================================================================\n",
      "Dep. Variable:                      y   R-squared:                       0.881\n",
      "Model:                            OLS   Adj. R-squared:                  0.879\n",
      "Method:                 Least Squares   F-statistic:                     537.1\n",
      "Date:                Sun, 18 Mar 2018   Prob (F-statistic):               0.00\n",
      "Time:                        16:25:18   Log-Likelihood:                -5203.3\n",
      "No. Observations:                 887   AIC:                         1.043e+04\n",
      "Df Residuals:                     874   BIC:                         1.049e+04\n",
      "Df Model:                          12                                         \n",
      "Covariance Type:            nonrobust                                         \n",
      "==============================================================================\n",
      "                 coef    std err          t      P>|t|      [0.025      0.975]\n",
      "------------------------------------------------------------------------------\n",
      "const          3.3515      2.984      1.123      0.262      -2.506       9.209\n",
      "x1           -24.9380      1.744    -14.297      0.000     -28.361     -21.515\n",
      "x2           -30.9915      3.446     -8.994      0.000     -37.755     -24.228\n",
      "x3             0.0003   2.48e-05     10.721      0.000       0.000       0.000\n",
      "x4             5.0978      0.239     21.350      0.000       4.629       5.566\n",
      "x5            10.2594      3.023      3.394      0.001       4.326      16.193\n",
      "x6             0.0004      0.000      1.756      0.079   -4.63e-05       0.001\n",
      "x7          -123.4702     13.617     -9.067      0.000    -150.197     -96.744\n",
      "x8            -0.0796      0.168     -0.475      0.635      -0.408       0.249\n",
      "x9             4.2777      0.345     12.404      0.000       3.601       4.955\n",
      "x10           28.0679      6.155      4.560      0.000      15.988      40.148\n",
      "x11           -3.1402      0.690     -4.554      0.000      -4.494      -1.787\n",
      "x12           -0.0002   2.18e-05    -10.159      0.000      -0.000      -0.000\n",
      "==============================================================================\n",
      "Omnibus:                      553.779   Durbin-Watson:                   2.225\n",
      "Prob(Omnibus):                  0.000   Jarque-Bera (JB):           165949.083\n",
      "Skew:                           1.631   Prob(JB):                         0.00\n",
      "Kurtosis:                      69.929   Cond. No.                     1.19e+07\n",
      "==============================================================================\n",
      "\n",
      "Warnings:\n",
      "[1] Standard Errors assume that the covariance matrix of the errors is correctly specified.\n",
      "[2] The condition number is large, 1.19e+07. This might indicate that there are\n",
      "strong multicollinearity or other numerical problems.\n"
     ]
    }
   ],
   "source": [
    "#problem 1_3 adding new features \n",
    "print(\"-------------problem_1_3--------------\")\n",
    "hashes = []\n",
    "for elements in Tweet_details['entities']:\n",
    "    hashes.append(elements)\n",
    "Hashtags = pd.DataFrame.from_records(hashes)\n",
    "hashtags_per_tweet = np.zeros((len(tweets),1))\n",
    "x = 0\n",
    "for elements in Hashtags.hashtags:\n",
    "    for elements2 in elements:\n",
    "        hashtags_per_tweet[x] += 1\n",
    "    x = x+1\n",
    "    \n",
    "n_hashtags = np.zeros((n_bins,1))\n",
    "sum_favourited = np.zeros((n_bins,1))\n",
    "sum_friends = np.zeros((n_bins,1))\n",
    "n_verified_users = np.zeros((n_bins,1))\n",
    "sum_citations = np.zeros((n_bins,1))\n",
    "sum_ranking_score = np.zeros((n_bins,1))\n",
    "sum_statuses_count = np.zeros((n_bins,1))\n",
    "sum_influential = np.zeros((n_bins,1))\n",
    "sum_matching = np.zeros((n_bins,1))\n",
    "\n",
    "\n",
    "index = 0\n",
    "for Time in Time_stamps:\n",
    "    if (Time[3]>2014):\n",
    "        idx = (Time[0]-tweet_initial[0])*31*24 + (Time[1]-tweet_initial[1])*24 + (Time[2]-tweet_initial[2])\n",
    "        n_hashtags[idx] += hashtags_per_tweet[index]\n",
    "        sum_favourited[idx] += Tweet_details.favorite_count[index]\n",
    "        sum_friends[idx] += tweet_user.friends_count[index]\n",
    "        n_verified_users[idx] += tweet_user.verified[index]*1\n",
    "        sum_citations[idx] += tweets.metrics[index]['citations']['total']\n",
    "        sum_ranking_score[idx] += tweets.metrics[index]['ranking_score'] \n",
    "        sum_influential[idx] += tweets.metrics[index]['citations']['influential']\n",
    "        sum_matching[idx] += tweets.metrics[index]['citations']['matching']\n",
    "        sum_statuses_count[idx] += tweet_user.statuses_count[index]\n",
    "        \n",
    "    index +=1\n",
    "    \n",
    "    \n",
    "    \n",
    "new_features = np.concatenate((n_tweets[0:-1], n_retweets[0:-1],n_followers[0:-1],\n",
    "                                 n_hashtags[0:-1], sum_favourited[0:-1],sum_friends[0:-1],\n",
    "                                 n_verified_users[0:-1], sum_citations[0:-1], sum_ranking_score[0:-1], \n",
    "                                 sum_influential[0:-1],sum_matching[0:-1],\n",
    "                                 sum_statuses_count[0:-1]), axis=1)\n",
    "\n",
    "new_model2 = reg_m(target, new_features)\n",
    "print('hastag #', hashtag)\n",
    "print(new_model2.summary())"
   ]
  },
  {
   "cell_type": "code",
   "execution_count": 8,
   "metadata": {},
   "outputs": [
    {
     "name": "stderr",
     "output_type": "stream",
     "text": [
      "C:\\Users\\tians\\Anaconda3\\lib\\site-packages\\ipykernel_launcher.py:3: RuntimeWarning: divide by zero encountered in log10\n",
      "  This is separate from the ipykernel package so we can avoid doing imports until\n"
     ]
    },
    {
     "data": {
      "image/png": "[encoded data removed]",
      "text/plain": [
       "<matplotlib.figure.Figure at 0x17be0f10518>"
      ]
     },
     "metadata": {},
     "output_type": "display_data"
    },
    {
     "name": "stderr",
     "output_type": "stream",
     "text": [
      "C:\\Users\\tians\\Anaconda3\\lib\\site-packages\\ipykernel_launcher.py:9: RuntimeWarning: divide by zero encountered in log10\n",
      "  if __name__ == '__main__':\n"
     ]
    },
    {
     "data": {
      "image/png": "[encoded data removed]",
      "text/plain": [
       "<matplotlib.figure.Figure at 0x17be0f38a58>"
      ]
     },
     "metadata": {},
     "output_type": "display_data"
    },
    {
     "name": "stderr",
     "output_type": "stream",
     "text": [
      "C:\\Users\\tians\\Anaconda3\\lib\\site-packages\\ipykernel_launcher.py:16: RuntimeWarning: divide by zero encountered in log10\n",
      "  app.launch_new_instance()\n"
     ]
    },
    {
     "data": {
      "image/png": "[encoded data removed]",
      "text/plain": [
       "<matplotlib.figure.Figure at 0x17be101c2b0>"
      ]
     },
     "metadata": {},
     "output_type": "display_data"
    }
   ],
   "source": [
    "# pick 3 most significant features: \n",
    "plt.clf()\n",
    "plt.scatter(np.log10(new_features[0:,0]),np.log10(target))\n",
    "plt.xlabel('Number of tweets')\n",
    "plt.ylabel('Predictant')\n",
    "plt.show()\n",
    "\n",
    "plt.clf()\n",
    "plt.scatter(np.log10(new_features[0:,3]),np.log10(target))\n",
    "plt.xlabel('Number of hashtags')\n",
    "plt.ylabel('Predictant')\n",
    "plt.show()\n",
    "\n",
    "\n",
    "plt.clf()\n",
    "plt.scatter(np.log10(new_features[0:,8]),np.log10(target))\n",
    "plt.xlabel('Ranking score')\n",
    "plt.ylabel('Predictant')\n",
    "#plt.axis('equal')\n",
    "plt.show()"
   ]
  },
  {
   "cell_type": "code",
   "execution_count": null,
   "metadata": {},
   "outputs": [],
   "source": []
  }
 ],
 "metadata": {
  "kernelspec": {
   "display_name": "Python 3",
   "language": "python",
   "name": "python3"
  },
  "language_info": {
   "codemirror_mode": {
    "name": "ipython",
    "version": 3
   },
   "file_extension": ".py",
   "mimetype": "text/x-python",
   "name": "python",
   "nbconvert_exporter": "python",
   "pygments_lexer": "ipython3",
   "version": "3.6.4"
  }
 },
 "nbformat": 4,
 "nbformat_minor": 2
}
