{
 "cells": [
  {
   "cell_type": "markdown",
   "metadata": {},
   "source": [
    "### Hashtag: gohawks"
   ]
  },
  {
   "cell_type": "markdown",
   "metadata": {},
   "source": [
    "#### Problem 1.2"
   ]
  },
  {
   "cell_type": "code",
   "execution_count": 1,
   "metadata": {},
   "outputs": [
    {
     "name": "stderr",
     "output_type": "stream",
     "text": [
      "C:\\Users\\tians\\Anaconda3\\lib\\site-packages\\statsmodels\\compat\\pandas.py:56: FutureWarning: The pandas.core.datetools module is deprecated and will be removed in a future version. Please use the pandas.tseries module instead.\n",
      "  from pandas.core import datetools\n"
     ]
    },
    {
     "name": "stdout",
     "output_type": "stream",
     "text": [
      "done\n"
     ]
    }
   ],
   "source": [
    "import json\n",
    "import numpy as np\n",
    "import pandas as pd\n",
    "import matplotlib.pyplot as plt\n",
    "import math\n",
    "import statsmodels.api as sm\n",
    "import statsmodels.formula.api as smf\n",
    "from datetime import datetime as dt\n",
    "import time\n",
    "import pytz\n",
    "from itertools import compress\n",
    "from sklearn import datasets, linear_model\n",
    "from sklearn.metrics import accuracy_score, r2_score, mean_squared_error\n",
    "\n",
    "def reg_m(y, x):\n",
    "    X = sm.add_constant(x)\n",
    "    results = sm.regression.linear_model.OLS(y, X).fit()\n",
    "    return results\n",
    "\n",
    "hashtag = 'gohawks'\n",
    "data = {}\n",
    "file_path = 'tweets_#' + hashtag + '.txt' \n",
    "tweets_firstpost_date = []\n",
    "tweets_title = []\n",
    "tweets_tweet = []\n",
    "tweets_metrics = []\n",
    "tweets_file = open(file_path, \"rt\" )\n",
    "for line in tweets_file:\n",
    "    try:\n",
    "        tweet = json.loads(line)\n",
    "        tweets_firstpost_date.append(tweet['firstpost_date'])\n",
    "        tweets_tweet.append(tweet['tweet'])\n",
    "        tweets_title.append(tweet['title'])\n",
    "        tweets_metrics .append(tweet['metrics'])\n",
    "    except:\n",
    "        continue\n",
    "    \n",
    "tweets = pd.DataFrame()\n",
    "tweets['firstpost_date'] = tweets_firstpost_date\n",
    "tweets['tweet'] = tweets_tweet\n",
    "tweets['title'] = tweets_title\n",
    "tweets['metrics'] = tweets_metrics\n",
    "Tweet_details = pd.DataFrame.from_records(tweets['tweet'])\n",
    "Metrics = pd.DataFrame.from_records(tweets['metrics'])\n",
    "\n",
    "tweet_user = []\n",
    "for elements in Tweet_details['user']:\n",
    "    tweet_user.append(elements)\n",
    "tweet_user = pd.DataFrame(tweet_user)\n",
    "\n",
    "\n",
    "tweet_initial = 1420102800\n",
    "tweet_final = tweets.firstpost_date[len(tweets.firstpost_date)-1]\n",
    "n_bins = int(math.ceil((tweet_final - tweet_initial)/3600)+1)\n",
    "\n",
    "tweet_initial = [dt.fromtimestamp(1420102800).month,\n",
    "                     dt.fromtimestamp(1420102800).day,\n",
    "                     dt.fromtimestamp(1420102800).hour]\n",
    "Time_stamps = []\n",
    "for x in tweets['firstpost_date']:\n",
    "   Time_stamps.append([dt.fromtimestamp(x).month,  dt.fromtimestamp(x).day,  dt.fromtimestamp(x).hour,\n",
    "                       dt.fromtimestamp(x).year])\n",
    "print('done')"
   ]
  },
  {
   "cell_type": "code",
   "execution_count": 2,
   "metadata": {
    "scrolled": true
   },
   "outputs": [
    {
     "name": "stdout",
     "output_type": "stream",
     "text": [
      "-------------problem_1_2--------------\n",
      "hastag # gohawks\n",
      "                            OLS Regression Results                            \n",
      "==============================================================================\n",
      "Dep. Variable:                      y   R-squared:                       0.467\n",
      "Model:                            OLS   Adj. R-squared:                  0.464\n",
      "Method:                 Least Squares   F-statistic:                     154.7\n",
      "Date:                Sun, 18 Mar 2018   Prob (F-statistic):          5.17e-118\n",
      "Time:                        16:49:20   Log-Likelihood:                -7208.6\n",
      "No. Observations:                 890   AIC:                         1.443e+04\n",
      "Df Residuals:                     884   BIC:                         1.446e+04\n",
      "Df Model:                           5                                         \n",
      "Covariance Type:            nonrobust                                         \n",
      "==============================================================================\n",
      "                 coef    std err          t      P>|t|      [0.025      0.975]\n",
      "------------------------------------------------------------------------------\n",
      "const         69.9156     51.973      1.345      0.179     -32.089     171.920\n",
      "x1             1.2580      3.909      0.322      0.748      -6.413       8.929\n",
      "x2             0.5885      0.118      5.003      0.000       0.358       0.819\n",
      "x3             0.0122      0.039      0.313      0.755      -0.064       0.089\n",
      "x4          7.452e-05   6.64e-05      1.123      0.262   -5.58e-05       0.000\n",
      "x5            -0.0003      0.000     -2.085      0.037      -0.001   -1.54e-05\n",
      "==============================================================================\n",
      "Omnibus:                     1584.963   Durbin-Watson:                   2.309\n",
      "Prob(Omnibus):                  0.000   Jarque-Bera (JB):          3284266.661\n",
      "Skew:                          11.392   Prob(JB):                         0.00\n",
      "Kurtosis:                     299.724   Cond. No.                     4.58e+06\n",
      "==============================================================================\n",
      "\n",
      "Warnings:\n",
      "[1] Standard Errors assume that the covariance matrix of the errors is correctly specified.\n",
      "[2] The condition number is large, 4.58e+06. This might indicate that there are\n",
      "strong multicollinearity or other numerical problems.\n"
     ]
    }
   ],
   "source": [
    "#problem 1.2\n",
    "print(\"-------------problem_1_2--------------\")\n",
    "n_tweets = np.zeros((n_bins,1))\n",
    "n_retweets = np.zeros((n_bins,1))\n",
    "n_followers = np.zeros((n_bins,1))\n",
    "max_followers = np.zeros((n_bins,1))\n",
    "n_hours = np.zeros((n_bins,1))\n",
    "day_of_week = np.zeros((n_bins,1))\n",
    "index = 0\n",
    "for Time in Time_stamps:\n",
    "    if (Time[3]>2014):\n",
    "        index_2 = (Time[0]-tweet_initial[0])*31*24 + (Time[1]-tweet_initial[1])*24 + (Time[2]-tweet_initial[2])\n",
    "        n_tweets[index_2] += 1\n",
    "        n_retweets[index_2] += Tweet_details.retweet_count[index]\n",
    "        n_followers[index_2] += tweet_user.followers_count[index]\n",
    "        max_followers[index_2] = max(tweet_user.followers_count[index], max_followers[index_2])\n",
    "    index +=1\n",
    "for i in range (0,n_bins):\n",
    "    n_hours[i] = (i+tweet_initial[2]) % 24 \n",
    "    day_of_week[i] = (np.ceil((i+12) / 24)+4) % 7\n",
    "features_1 = np.concatenate((n_hours[0:-1], n_tweets[0:-1], n_retweets[0:-1], n_followers[0:-1], max_followers[0:-1] ), axis=1)\n",
    "\n",
    "# number of tweets for the nect hours\n",
    "target = n_tweets[1:len(n_tweets)] \n",
    "\n",
    "\n",
    "new_model = reg_m(target, features_1)\n",
    "print('hastag #', hashtag)\n",
    "print(new_model.summary())"
   ]
  },
  {
   "cell_type": "markdown",
   "metadata": {},
   "source": [
    "#### Problem 1.3"
   ]
  },
  {
   "cell_type": "code",
   "execution_count": 3,
   "metadata": {},
   "outputs": [
    {
     "name": "stdout",
     "output_type": "stream",
     "text": [
      "-------------problem_1_3--------------\n",
      "hastag # gohawks\n",
      "                            OLS Regression Results                            \n",
      "==============================================================================\n",
      "Dep. Variable:                      y   R-squared:                       0.627\n",
      "Model:                            OLS   Adj. R-squared:                  0.621\n",
      "Method:                 Least Squares   F-statistic:                     122.6\n",
      "Date:                Sun, 18 Mar 2018   Prob (F-statistic):          3.43e-178\n",
      "Time:                        16:49:58   Log-Likelihood:                -7049.9\n",
      "No. Observations:                 890   AIC:                         1.413e+04\n",
      "Df Residuals:                     877   BIC:                         1.419e+04\n",
      "Df Model:                          12                                         \n",
      "Covariance Type:            nonrobust                                         \n",
      "==============================================================================\n",
      "                 coef    std err          t      P>|t|      [0.025      0.975]\n",
      "------------------------------------------------------------------------------\n",
      "const        -25.1905     25.105     -1.003      0.316     -74.464      24.083\n",
      "x1            -9.7824      3.582     -2.731      0.006     -16.812      -2.753\n",
      "x2             0.2696      0.215      1.255      0.210      -0.152       0.691\n",
      "x3            -0.0003   4.63e-05     -6.139      0.000      -0.000      -0.000\n",
      "x4             1.0740      0.255      4.215      0.000       0.574       1.574\n",
      "x5            -0.0560      0.090     -0.623      0.534      -0.232       0.120\n",
      "x6             0.0007      0.000      2.030      0.043    2.22e-05       0.001\n",
      "x7            34.3170     10.290      3.335      0.001      14.120      54.514\n",
      "x8            -0.3272      0.116     -2.832      0.005      -0.554      -0.100\n",
      "x9             0.9117      0.621      1.469      0.142      -0.306       2.130\n",
      "x10           14.3612      4.467      3.215      0.001       5.593      23.129\n",
      "x11            2.7322      1.663      1.643      0.101      -0.532       5.996\n",
      "x12            0.0002   2.69e-05      5.763      0.000       0.000       0.000\n",
      "==============================================================================\n",
      "Omnibus:                     1870.477   Durbin-Watson:                   2.104\n",
      "Prob(Omnibus):                  0.000   Jarque-Bera (JB):          5941367.019\n",
      "Skew:                          16.536   Prob(JB):                         0.00\n",
      "Kurtosis:                     401.902   Cond. No.                     1.11e+07\n",
      "==============================================================================\n",
      "\n",
      "Warnings:\n",
      "[1] Standard Errors assume that the covariance matrix of the errors is correctly specified.\n",
      "[2] The condition number is large, 1.11e+07. This might indicate that there are\n",
      "strong multicollinearity or other numerical problems.\n"
     ]
    }
   ],
   "source": [
    "#problem 1_3 adding new features \n",
    "print(\"-------------problem_1_3--------------\")\n",
    "hashes = []\n",
    "for elements in Tweet_details['entities']:\n",
    "    hashes.append(elements)\n",
    "Hashtags = pd.DataFrame.from_records(hashes)\n",
    "hashtags_per_tweet = np.zeros((len(tweets),1))\n",
    "x = 0\n",
    "for elements in Hashtags.hashtags:\n",
    "    for elements2 in elements:\n",
    "        hashtags_per_tweet[x] += 1\n",
    "    x = x+1\n",
    "    \n",
    "n_hashtags = np.zeros((n_bins,1))\n",
    "sum_favourited = np.zeros((n_bins,1))\n",
    "sum_friends = np.zeros((n_bins,1))\n",
    "n_verified_users = np.zeros((n_bins,1))\n",
    "sum_citations = np.zeros((n_bins,1))\n",
    "sum_ranking_score = np.zeros((n_bins,1))\n",
    "sum_statuses_count = np.zeros((n_bins,1))\n",
    "sum_influential = np.zeros((n_bins,1))\n",
    "sum_matching = np.zeros((n_bins,1))\n",
    "\n",
    "\n",
    "index = 0\n",
    "for Time in Time_stamps:\n",
    "    if (Time[3]>2014):\n",
    "        idx = (Time[0]-tweet_initial[0])*31*24 + (Time[1]-tweet_initial[1])*24 + (Time[2]-tweet_initial[2])\n",
    "        n_hashtags[idx] += hashtags_per_tweet[index]\n",
    "        sum_favourited[idx] += Tweet_details.favorite_count[index]\n",
    "        sum_friends[idx] += tweet_user.friends_count[index]\n",
    "        n_verified_users[idx] += tweet_user.verified[index]*1\n",
    "        sum_citations[idx] += tweets.metrics[index]['citations']['total']\n",
    "        sum_ranking_score[idx] += tweets.metrics[index]['ranking_score'] \n",
    "        sum_influential[idx] += tweets.metrics[index]['citations']['influential']\n",
    "        sum_matching[idx] += tweets.metrics[index]['citations']['matching']\n",
    "        sum_statuses_count[idx] += tweet_user.statuses_count[index]\n",
    "        \n",
    "    index +=1\n",
    "    \n",
    "    \n",
    "    \n",
    "new_features = np.concatenate((n_tweets[0:-1], n_retweets[0:-1],n_followers[0:-1],\n",
    "                                 n_hashtags[0:-1], sum_favourited[0:-1],sum_friends[0:-1],\n",
    "                                 n_verified_users[0:-1], sum_citations[0:-1], sum_ranking_score[0:-1], \n",
    "                                 sum_influential[0:-1],sum_matching[0:-1],\n",
    "                                 sum_statuses_count[0:-1]), axis=1)\n",
    "\n",
    "new_model2 = reg_m(target, new_features)\n",
    "print('hastag #', hashtag)\n",
    "print(new_model2.summary())"
   ]
  },
  {
   "cell_type": "code",
   "execution_count": 7,
   "metadata": {},
   "outputs": [
    {
     "name": "stderr",
     "output_type": "stream",
     "text": [
      "C:\\Users\\tians\\Anaconda3\\lib\\site-packages\\ipykernel_launcher.py:3: RuntimeWarning: divide by zero encountered in log10\n",
      "  This is separate from the ipykernel package so we can avoid doing imports until\n"
     ]
    },
    {
     "data": {
      "image/png": "[encoded data removed]",
      "text/plain": [
       "<matplotlib.figure.Figure at 0x1a3b991d550>"
      ]
     },
     "metadata": {},
     "output_type": "display_data"
    },
    {
     "name": "stderr",
     "output_type": "stream",
     "text": [
      "C:\\Users\\tians\\Anaconda3\\lib\\site-packages\\ipykernel_launcher.py:9: RuntimeWarning: divide by zero encountered in log10\n",
      "  if __name__ == '__main__':\n"
     ]
    },
    {
     "data": {
      "image/png": "[encoded data removed]",
      "text/plain": [
       "<matplotlib.figure.Figure at 0x1a3b99758d0>"
      ]
     },
     "metadata": {},
     "output_type": "display_data"
    },
    {
     "name": "stderr",
     "output_type": "stream",
     "text": [
      "C:\\Users\\tians\\Anaconda3\\lib\\site-packages\\ipykernel_launcher.py:15: RuntimeWarning: divide by zero encountered in log10\n",
      "  from ipykernel import kernelapp as app\n"
     ]
    },
    {
     "data": {
      "image/png": "[encoded data removed]",
      "text/plain": [
       "<matplotlib.figure.Figure at 0x1a3b99445c0>"
      ]
     },
     "metadata": {},
     "output_type": "display_data"
    }
   ],
   "source": [
    "# pick 3 most significant features: \n",
    "plt.clf()\n",
    "plt.scatter(np.log10(new_features[0:,2]),np.log10(target))\n",
    "plt.xlabel('Number of followers')\n",
    "plt.ylabel('Predictant')\n",
    "plt.show()\n",
    "\n",
    "plt.clf()\n",
    "plt.scatter(np.log10(new_features[0:,3]),np.log10(target))\n",
    "plt.xlabel('Number of hashtags')\n",
    "plt.ylabel('Predictant')\n",
    "plt.show()\n",
    "\n",
    "plt.clf()\n",
    "plt.scatter(np.log10(new_features[0:,11]),np.log10(target))\n",
    "plt.xlabel('Influence Value')\n",
    "plt.ylabel('Predictant')\n",
    "#plt.axis('equal')\n",
    "plt.show()"
   ]
  },
  {
   "cell_type": "code",
   "execution_count": null,
   "metadata": {},
   "outputs": [],
   "source": []
  }
 ],
 "metadata": {
  "kernelspec": {
   "display_name": "Python 3",
   "language": "python",
   "name": "python3"
  },
  "language_info": {
   "codemirror_mode": {
    "name": "ipython",
    "version": 3
   },
   "file_extension": ".py",
   "mimetype": "text/x-python",
   "name": "python",
   "nbconvert_exporter": "python",
   "pygments_lexer": "ipython3",
   "version": "3.6.4"
  }
 },
 "nbformat": 4,
 "nbformat_minor": 2
}
