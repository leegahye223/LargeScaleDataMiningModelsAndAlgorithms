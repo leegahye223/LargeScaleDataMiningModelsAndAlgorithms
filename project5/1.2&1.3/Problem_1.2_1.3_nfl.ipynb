{
 "cells": [
  {
   "cell_type": "markdown",
   "metadata": {},
   "source": [
    "### Hashtag: nfl"
   ]
  },
  {
   "cell_type": "markdown",
   "metadata": {},
   "source": [
    "#### Problem 1.2"
   ]
  },
  {
   "cell_type": "code",
   "execution_count": 1,
   "metadata": {},
   "outputs": [
    {
     "name": "stderr",
     "output_type": "stream",
     "text": [
      "C:\\Users\\tians\\Anaconda3\\lib\\site-packages\\statsmodels\\compat\\pandas.py:56: FutureWarning: The pandas.core.datetools module is deprecated and will be removed in a future version. Please use the pandas.tseries module instead.\n",
      "  from pandas.core import datetools\n"
     ]
    },
    {
     "name": "stdout",
     "output_type": "stream",
     "text": [
      "done\n"
     ]
    }
   ],
   "source": [
    "import json\n",
    "import numpy as np\n",
    "import pandas as pd\n",
    "import matplotlib.pyplot as plt\n",
    "import math\n",
    "import statsmodels.api as sm\n",
    "import statsmodels.formula.api as smf\n",
    "from datetime import datetime as dt\n",
    "import time\n",
    "import pytz\n",
    "from itertools import compress\n",
    "from sklearn import datasets, linear_model\n",
    "from sklearn.metrics import accuracy_score, r2_score, mean_squared_error\n",
    "\n",
    "def reg_m(y, x):\n",
    "    X = sm.add_constant(x)\n",
    "    results = sm.regression.linear_model.OLS(y, X).fit()\n",
    "    return results\n",
    "\n",
    "hashtag = 'nfl'\n",
    "data = {}\n",
    "file_path = 'tweets_#' + hashtag + '.txt' \n",
    "tweets_firstpost_date = []\n",
    "tweets_title = []\n",
    "tweets_tweet = []\n",
    "tweets_metrics = []\n",
    "tweets_file = open(file_path, \"rt\" )\n",
    "for line in tweets_file:\n",
    "    try:\n",
    "        tweet = json.loads(line)\n",
    "        tweets_firstpost_date.append(tweet['firstpost_date'])\n",
    "        tweets_tweet.append(tweet['tweet'])\n",
    "        tweets_title.append(tweet['title'])\n",
    "        tweets_metrics .append(tweet['metrics'])\n",
    "    except:\n",
    "        continue\n",
    "    \n",
    "tweets = pd.DataFrame()\n",
    "tweets['firstpost_date'] = tweets_firstpost_date\n",
    "tweets['tweet'] = tweets_tweet\n",
    "tweets['title'] = tweets_title\n",
    "tweets['metrics'] = tweets_metrics\n",
    "Tweet_details = pd.DataFrame.from_records(tweets['tweet'])\n",
    "Metrics = pd.DataFrame.from_records(tweets['metrics'])\n",
    "\n",
    "tweet_user = []\n",
    "for elements in Tweet_details['user']:\n",
    "    tweet_user.append(elements)\n",
    "tweet_user = pd.DataFrame(tweet_user)\n",
    "\n",
    "\n",
    "tweet_initial = 1420102800\n",
    "tweet_final = tweets.firstpost_date[len(tweets.firstpost_date)-1]\n",
    "n_bins = int(math.ceil((tweet_final - tweet_initial)/3600)+1)\n",
    "\n",
    "tweet_initial = [dt.fromtimestamp(1420102800).month,\n",
    "                     dt.fromtimestamp(1420102800).day,\n",
    "                     dt.fromtimestamp(1420102800).hour]\n",
    "Time_stamps = []\n",
    "for x in tweets['firstpost_date']:\n",
    "   Time_stamps.append([dt.fromtimestamp(x).month,  dt.fromtimestamp(x).day,  dt.fromtimestamp(x).hour,\n",
    "                       dt.fromtimestamp(x).year])\n",
    "print('done')"
   ]
  },
  {
   "cell_type": "code",
   "execution_count": 2,
   "metadata": {
    "scrolled": true
   },
   "outputs": [
    {
     "name": "stdout",
     "output_type": "stream",
     "text": [
      "-------------problem_1_2--------------\n",
      "hastag # nfl\n",
      "                            OLS Regression Results                            \n",
      "==============================================================================\n",
      "Dep. Variable:                      y   R-squared:                       0.718\n",
      "Model:                            OLS   Adj. R-squared:                  0.716\n",
      "Method:                 Least Squares   F-statistic:                     453.3\n",
      "Date:                Sun, 18 Mar 2018   Prob (F-statistic):          5.48e-242\n",
      "Time:                        16:55:49   Log-Likelihood:                -6641.6\n",
      "No. Observations:                 898   AIC:                         1.330e+04\n",
      "Df Residuals:                     892   BIC:                         1.332e+04\n",
      "Df Model:                           5                                         \n",
      "Covariance Type:            nonrobust                                         \n",
      "==============================================================================\n",
      "                 coef    std err          t      P>|t|      [0.025      0.975]\n",
      "------------------------------------------------------------------------------\n",
      "const         53.6779     26.088      2.058      0.040       2.477     104.879\n",
      "x1            -1.7136      1.922     -0.892      0.373      -5.486       2.058\n",
      "x2             0.8782      0.071     12.393      0.000       0.739       1.017\n",
      "x3            -3.0111      0.151    -19.942      0.000      -3.307      -2.715\n",
      "x4          3.082e-05   1.63e-05      1.896      0.058   -1.08e-06    6.27e-05\n",
      "x5          7.267e-06   2.31e-05      0.315      0.753    -3.8e-05    5.26e-05\n",
      "==============================================================================\n",
      "Omnibus:                     1527.771   Durbin-Watson:                   2.379\n",
      "Prob(Omnibus):                  0.000   Jarque-Bera (JB):          1309820.625\n",
      "Skew:                          10.726   Prob(JB):                         0.00\n",
      "Kurtosis:                     188.866   Cond. No.                     7.84e+06\n",
      "==============================================================================\n",
      "\n",
      "Warnings:\n",
      "[1] Standard Errors assume that the covariance matrix of the errors is correctly specified.\n",
      "[2] The condition number is large, 7.84e+06. This might indicate that there are\n",
      "strong multicollinearity or other numerical problems.\n"
     ]
    }
   ],
   "source": [
    "#problem 1.2\n",
    "print(\"-------------problem_1_2--------------\")\n",
    "n_tweets = np.zeros((n_bins,1))\n",
    "n_retweets = np.zeros((n_bins,1))\n",
    "n_followers = np.zeros((n_bins,1))\n",
    "max_followers = np.zeros((n_bins,1))\n",
    "n_hours = np.zeros((n_bins,1))\n",
    "day_of_week = np.zeros((n_bins,1))\n",
    "index = 0\n",
    "for Time in Time_stamps:\n",
    "    if (Time[3]>2014):\n",
    "        index_2 = (Time[0]-tweet_initial[0])*31*24 + (Time[1]-tweet_initial[1])*24 + (Time[2]-tweet_initial[2])\n",
    "        n_tweets[index_2] += 1\n",
    "        n_retweets[index_2] += Tweet_details.retweet_count[index]\n",
    "        n_followers[index_2] += tweet_user.followers_count[index]\n",
    "        max_followers[index_2] = max(tweet_user.followers_count[index], max_followers[index_2])\n",
    "    index +=1\n",
    "for i in range (0,n_bins):\n",
    "    n_hours[i] = (i+tweet_initial[2]) % 24 \n",
    "    day_of_week[i] = (np.ceil((i+12) / 24)+4) % 7\n",
    "features_1 = np.concatenate((n_hours[0:-1], n_tweets[0:-1], n_retweets[0:-1], n_followers[0:-1], max_followers[0:-1] ), axis=1)\n",
    "\n",
    "# number of tweets for the nect hours\n",
    "target = n_tweets[1:len(n_tweets)] \n",
    "\n",
    "\n",
    "new_model = reg_m(target, features_1)\n",
    "print('hastag #', hashtag)\n",
    "print(new_model.summary())"
   ]
  },
  {
   "cell_type": "markdown",
   "metadata": {},
   "source": [
    "#### Problem 1.3"
   ]
  },
  {
   "cell_type": "code",
   "execution_count": 3,
   "metadata": {},
   "outputs": [
    {
     "name": "stdout",
     "output_type": "stream",
     "text": [
      "-------------problem_1_3--------------\n",
      "hastag # nfl\n",
      "                            OLS Regression Results                            \n",
      "==============================================================================\n",
      "Dep. Variable:                      y   R-squared:                       0.757\n",
      "Model:                            OLS   Adj. R-squared:                  0.754\n",
      "Method:                 Least Squares   F-statistic:                     230.0\n",
      "Date:                Sun, 18 Mar 2018   Prob (F-statistic):          3.42e-262\n",
      "Time:                        16:56:37   Log-Likelihood:                -6573.7\n",
      "No. Observations:                 898   AIC:                         1.317e+04\n",
      "Df Residuals:                     885   BIC:                         1.324e+04\n",
      "Df Model:                          12                                         \n",
      "Covariance Type:            nonrobust                                         \n",
      "==============================================================================\n",
      "                 coef    std err          t      P>|t|      [0.025      0.975]\n",
      "------------------------------------------------------------------------------\n",
      "const         -3.9641     15.957     -0.248      0.804     -35.283      27.355\n",
      "x1             2.7499      1.532      1.795      0.073      -0.257       5.757\n",
      "x2            -0.4659      0.813     -0.573      0.567      -2.062       1.130\n",
      "x3          2.022e-05   1.07e-05      1.893      0.059   -7.46e-07    4.12e-05\n",
      "x4             0.6705      0.076      8.781      0.000       0.521       0.820\n",
      "x5            -1.1886      0.624     -1.903      0.057      -2.414       0.037\n",
      "x6            -0.0004      0.000     -3.603      0.000      -0.001      -0.000\n",
      "x7             6.5573      4.901      1.338      0.181      -3.061      16.175\n",
      "x8            -0.1228      0.066     -1.862      0.063      -0.252       0.007\n",
      "x9            -0.0865      0.258     -0.335      0.738      -0.593       0.420\n",
      "x10           15.2444      3.675      4.149      0.000       8.033      22.456\n",
      "x11           -3.6973      0.975     -3.791      0.000      -5.612      -1.783\n",
      "x12         2.205e-05   2.77e-06      7.954      0.000    1.66e-05    2.75e-05\n",
      "==============================================================================\n",
      "Omnibus:                     1340.534   Durbin-Watson:                   2.370\n",
      "Prob(Omnibus):                  0.000   Jarque-Bera (JB):           578654.399\n",
      "Skew:                           8.408   Prob(JB):                         0.00\n",
      "Kurtosis:                     126.217   Cond. No.                     2.56e+07\n",
      "==============================================================================\n",
      "\n",
      "Warnings:\n",
      "[1] Standard Errors assume that the covariance matrix of the errors is correctly specified.\n",
      "[2] The condition number is large, 2.56e+07. This might indicate that there are\n",
      "strong multicollinearity or other numerical problems.\n"
     ]
    }
   ],
   "source": [
    "#problem 1_3 adding new features \n",
    "print(\"-------------problem_1_3--------------\")\n",
    "hashes = []\n",
    "for elements in Tweet_details['entities']:\n",
    "    hashes.append(elements)\n",
    "Hashtags = pd.DataFrame.from_records(hashes)\n",
    "hashtags_per_tweet = np.zeros((len(tweets),1))\n",
    "x = 0\n",
    "for elements in Hashtags.hashtags:\n",
    "    for elements2 in elements:\n",
    "        hashtags_per_tweet[x] += 1\n",
    "    x = x+1\n",
    "    \n",
    "n_hashtags = np.zeros((n_bins,1))\n",
    "sum_favourited = np.zeros((n_bins,1))\n",
    "sum_friends = np.zeros((n_bins,1))\n",
    "n_verified_users = np.zeros((n_bins,1))\n",
    "sum_citations = np.zeros((n_bins,1))\n",
    "sum_ranking_score = np.zeros((n_bins,1))\n",
    "sum_statuses_count = np.zeros((n_bins,1))\n",
    "sum_influential = np.zeros((n_bins,1))\n",
    "sum_matching = np.zeros((n_bins,1))\n",
    "\n",
    "\n",
    "index = 0\n",
    "for Time in Time_stamps:\n",
    "    if (Time[3]>2014):\n",
    "        idx = (Time[0]-tweet_initial[0])*31*24 + (Time[1]-tweet_initial[1])*24 + (Time[2]-tweet_initial[2])\n",
    "        n_hashtags[idx] += hashtags_per_tweet[index]\n",
    "        sum_favourited[idx] += Tweet_details.favorite_count[index]\n",
    "        sum_friends[idx] += tweet_user.friends_count[index]\n",
    "        n_verified_users[idx] += tweet_user.verified[index]*1\n",
    "        sum_citations[idx] += tweets.metrics[index]['citations']['total']\n",
    "        sum_ranking_score[idx] += tweets.metrics[index]['ranking_score'] \n",
    "        sum_influential[idx] += tweets.metrics[index]['citations']['influential']\n",
    "        sum_matching[idx] += tweets.metrics[index]['citations']['matching']\n",
    "        sum_statuses_count[idx] += tweet_user.statuses_count[index]\n",
    "        \n",
    "    index +=1\n",
    "    \n",
    "    \n",
    "    \n",
    "new_features = np.concatenate((n_tweets[0:-1], n_retweets[0:-1],n_followers[0:-1],\n",
    "                                 n_hashtags[0:-1], sum_favourited[0:-1],sum_friends[0:-1],\n",
    "                                 n_verified_users[0:-1], sum_citations[0:-1], sum_ranking_score[0:-1], \n",
    "                                 sum_influential[0:-1],sum_matching[0:-1],\n",
    "                                 sum_statuses_count[0:-1]), axis=1)\n",
    "\n",
    "new_model2 = reg_m(target, new_features)\n",
    "print('hastag #', hashtag)\n",
    "print(new_model2.summary())"
   ]
  },
  {
   "cell_type": "code",
   "execution_count": 5,
   "metadata": {},
   "outputs": [
    {
     "name": "stderr",
     "output_type": "stream",
     "text": [
      "C:\\Users\\tians\\Anaconda3\\lib\\site-packages\\ipykernel_launcher.py:3: RuntimeWarning: divide by zero encountered in log10\n",
      "  This is separate from the ipykernel package so we can avoid doing imports until\n"
     ]
    },
    {
     "data": {
      "image/png": "[encoded data removed]",
      "text/plain": [
       "<matplotlib.figure.Figure at 0x1910a84a9b0>"
      ]
     },
     "metadata": {},
     "output_type": "display_data"
    },
    {
     "name": "stderr",
     "output_type": "stream",
     "text": [
      "C:\\Users\\tians\\Anaconda3\\lib\\site-packages\\ipykernel_launcher.py:9: RuntimeWarning: divide by zero encountered in log10\n",
      "  if __name__ == '__main__':\n"
     ]
    },
    {
     "data": {
      "image/png": "[encoded data removed]",
      "text/plain": [
       "<matplotlib.figure.Figure at 0x1910ac30b70>"
      ]
     },
     "metadata": {},
     "output_type": "display_data"
    },
    {
     "name": "stderr",
     "output_type": "stream",
     "text": [
      "C:\\Users\\tians\\Anaconda3\\lib\\site-packages\\ipykernel_launcher.py:16: RuntimeWarning: divide by zero encountered in log10\n",
      "  app.launch_new_instance()\n"
     ]
    },
    {
     "data": {
      "image/png": "[encoded data removed]",
      "text/plain": [
       "<matplotlib.figure.Figure at 0x1910aca2c88>"
      ]
     },
     "metadata": {},
     "output_type": "display_data"
    }
   ],
   "source": [
    "# pick 3 most significant features: \n",
    "plt.clf()\n",
    "plt.scatter(np.log10(new_features[0:,3]),np.log10(target))\n",
    "plt.xlabel('Number of hashtags')\n",
    "plt.ylabel('Predictant')\n",
    "plt.show()\n",
    "\n",
    "plt.clf()\n",
    "plt.scatter(np.log10(new_features[0:,9]),np.log10(target))\n",
    "plt.xlabel('Influence')\n",
    "plt.ylabel('Predictant')\n",
    "plt.show()\n",
    "\n",
    "\n",
    "plt.clf()\n",
    "plt.scatter(np.log10(new_features[0:,11]),np.log10(target))\n",
    "plt.xlabel('Influence Value')\n",
    "plt.ylabel('Predictant')\n",
    "#plt.axis('equal')\n",
    "plt.show()"
   ]
  },
  {
   "cell_type": "code",
   "execution_count": null,
   "metadata": {},
   "outputs": [],
   "source": []
  }
 ],
 "metadata": {
  "kernelspec": {
   "display_name": "Python 3",
   "language": "python",
   "name": "python3"
  },
  "language_info": {
   "codemirror_mode": {
    "name": "ipython",
    "version": 3
   },
   "file_extension": ".py",
   "mimetype": "text/x-python",
   "name": "python",
   "nbconvert_exporter": "python",
   "pygments_lexer": "ipython3",
   "version": "3.6.4"
  }
 },
 "nbformat": 4,
 "nbformat_minor": 2
}
