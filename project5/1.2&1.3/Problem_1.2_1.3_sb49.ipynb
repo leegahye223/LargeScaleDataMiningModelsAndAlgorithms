{
 "cells": [
  {
   "cell_type": "markdown",
   "metadata": {},
   "source": [
    "### Hashtag: sb49"
   ]
  },
  {
   "cell_type": "markdown",
   "metadata": {},
   "source": [
    "#### Problem 1.2"
   ]
  },
  {
   "cell_type": "code",
   "execution_count": 1,
   "metadata": {},
   "outputs": [
    {
     "name": "stderr",
     "output_type": "stream",
     "text": [
      "C:\\Users\\tians\\Anaconda3\\lib\\site-packages\\statsmodels\\compat\\pandas.py:56: FutureWarning: The pandas.core.datetools module is deprecated and will be removed in a future version. Please use the pandas.tseries module instead.\n",
      "  from pandas.core import datetools\n"
     ]
    },
    {
     "name": "stdout",
     "output_type": "stream",
     "text": [
      "done\n"
     ]
    }
   ],
   "source": [
    "import json\n",
    "import numpy as np\n",
    "import pandas as pd\n",
    "import matplotlib.pyplot as plt\n",
    "import math\n",
    "import statsmodels.api as sm\n",
    "import statsmodels.formula.api as smf\n",
    "from datetime import datetime as dt\n",
    "import time\n",
    "import pytz\n",
    "from itertools import compress\n",
    "from sklearn import datasets, linear_model\n",
    "from sklearn.metrics import accuracy_score, r2_score, mean_squared_error\n",
    "\n",
    "def reg_m(y, x):\n",
    "    X = sm.add_constant(x)\n",
    "    results = sm.regression.linear_model.OLS(y, X).fit()\n",
    "    return results\n",
    "\n",
    "hashtag = 'sb49'\n",
    "data = {}\n",
    "file_path = 'tweets_#' + hashtag + '.txt' \n",
    "tweets_firstpost_date = []\n",
    "tweets_title = []\n",
    "tweets_tweet = []\n",
    "tweets_metrics = []\n",
    "tweets_file = open(file_path, \"rt\" )\n",
    "for line in tweets_file:\n",
    "    try:\n",
    "        tweet = json.loads(line)\n",
    "        tweets_firstpost_date.append(tweet['firstpost_date'])\n",
    "        tweets_tweet.append(tweet['tweet'])\n",
    "        tweets_title.append(tweet['title'])\n",
    "        tweets_metrics .append(tweet['metrics'])\n",
    "    except:\n",
    "        continue\n",
    "    \n",
    "tweets = pd.DataFrame()\n",
    "tweets['firstpost_date'] = tweets_firstpost_date\n",
    "tweets['tweet'] = tweets_tweet\n",
    "tweets['title'] = tweets_title\n",
    "tweets['metrics'] = tweets_metrics\n",
    "Tweet_details = pd.DataFrame.from_records(tweets['tweet'])\n",
    "Metrics = pd.DataFrame.from_records(tweets['metrics'])\n",
    "\n",
    "tweet_user = []\n",
    "for elements in Tweet_details['user']:\n",
    "    tweet_user.append(elements)\n",
    "tweet_user = pd.DataFrame(tweet_user)\n",
    "\n",
    "\n",
    "tweet_initial = 1420102800\n",
    "tweet_final = tweets.firstpost_date[len(tweets.firstpost_date)-1]\n",
    "n_bins = int(math.ceil((tweet_final - tweet_initial)/3600)+1)\n",
    "\n",
    "tweet_initial = [dt.fromtimestamp(1420102800).month,\n",
    "                     dt.fromtimestamp(1420102800).day,\n",
    "                     dt.fromtimestamp(1420102800).hour]\n",
    "Time_stamps = []\n",
    "for x in tweets['firstpost_date']:\n",
    "   Time_stamps.append([dt.fromtimestamp(x).month,  dt.fromtimestamp(x).day,  dt.fromtimestamp(x).hour,\n",
    "                       dt.fromtimestamp(x).year])\n",
    "print('done')"
   ]
  },
  {
   "cell_type": "code",
   "execution_count": 2,
   "metadata": {
    "scrolled": true
   },
   "outputs": [
    {
     "name": "stdout",
     "output_type": "stream",
     "text": [
      "-------------problem_1_2--------------\n",
      "hastag # sb49\n",
      "                            OLS Regression Results                            \n",
      "==============================================================================\n",
      "Dep. Variable:                      y   R-squared:                       0.806\n",
      "Model:                            OLS   Adj. R-squared:                  0.805\n",
      "Method:                 Least Squares   F-statistic:                     740.9\n",
      "Date:                Sun, 18 Mar 2018   Prob (F-statistic):          1.35e-314\n",
      "Time:                        17:00:29   Log-Likelihood:                -8628.1\n",
      "No. Observations:                 898   AIC:                         1.727e+04\n",
      "Df Residuals:                     892   BIC:                         1.730e+04\n",
      "Df Model:                           5                                         \n",
      "Covariance Type:            nonrobust                                         \n",
      "==============================================================================\n",
      "                 coef    std err          t      P>|t|      [0.025      0.975]\n",
      "------------------------------------------------------------------------------\n",
      "const        150.5008    234.756      0.641      0.522    -310.238     611.240\n",
      "x1           -11.4223     17.506     -0.652      0.514     -45.780      22.935\n",
      "x2             0.9601      0.027     36.162      0.000       0.908       1.012\n",
      "x3            -0.2707      0.102     -2.647      0.008      -0.471      -0.070\n",
      "x4         -1.147e-05   3.21e-06     -3.572      0.000   -1.78e-05   -5.17e-06\n",
      "x5             0.0001   3.88e-05      3.297      0.001    5.18e-05       0.000\n",
      "==============================================================================\n",
      "Omnibus:                     1944.216   Durbin-Watson:                   1.640\n",
      "Prob(Omnibus):                  0.000   Jarque-Bera (JB):          7402477.325\n",
      "Skew:                          17.684   Prob(JB):                         0.00\n",
      "Kurtosis:                     446.383   Cond. No.                     1.38e+08\n",
      "==============================================================================\n",
      "\n",
      "Warnings:\n",
      "[1] Standard Errors assume that the covariance matrix of the errors is correctly specified.\n",
      "[2] The condition number is large, 1.38e+08. This might indicate that there are\n",
      "strong multicollinearity or other numerical problems.\n"
     ]
    }
   ],
   "source": [
    "#problem 1.2\n",
    "print(\"-------------problem_1_2--------------\")\n",
    "n_tweets = np.zeros((n_bins,1))\n",
    "n_retweets = np.zeros((n_bins,1))\n",
    "n_followers = np.zeros((n_bins,1))\n",
    "max_followers = np.zeros((n_bins,1))\n",
    "n_hours = np.zeros((n_bins,1))\n",
    "day_of_week = np.zeros((n_bins,1))\n",
    "index = 0\n",
    "for Time in Time_stamps:\n",
    "    if (Time[3]>2014):\n",
    "        index_2 = (Time[0]-tweet_initial[0])*31*24 + (Time[1]-tweet_initial[1])*24 + (Time[2]-tweet_initial[2])\n",
    "        n_tweets[index_2] += 1\n",
    "        n_retweets[index_2] += Tweet_details.retweet_count[index]\n",
    "        n_followers[index_2] += tweet_user.followers_count[index]\n",
    "        max_followers[index_2] = max(tweet_user.followers_count[index], max_followers[index_2])\n",
    "    index +=1\n",
    "for i in range (0,n_bins):\n",
    "    n_hours[i] = (i+tweet_initial[2]) % 24 \n",
    "    day_of_week[i] = (np.ceil((i+12) / 24)+4) % 7\n",
    "features_1 = np.concatenate((n_hours[0:-1], n_tweets[0:-1], n_retweets[0:-1], n_followers[0:-1], max_followers[0:-1] ), axis=1)\n",
    "\n",
    "# number of tweets for the nect hours\n",
    "target = n_tweets[1:len(n_tweets)] \n",
    "\n",
    "\n",
    "new_model = reg_m(target, features_1)\n",
    "print('hastag #', hashtag)\n",
    "print(new_model.summary())"
   ]
  },
  {
   "cell_type": "markdown",
   "metadata": {},
   "source": [
    "#### Problem 1.3"
   ]
  },
  {
   "cell_type": "code",
   "execution_count": 3,
   "metadata": {},
   "outputs": [
    {
     "name": "stdout",
     "output_type": "stream",
     "text": [
      "-------------problem_1_3--------------\n",
      "hastag # sb49\n",
      "                            OLS Regression Results                            \n",
      "==============================================================================\n",
      "Dep. Variable:                      y   R-squared:                       0.873\n",
      "Model:                            OLS   Adj. R-squared:                  0.871\n",
      "Method:                 Least Squares   F-statistic:                     506.9\n",
      "Date:                Sun, 18 Mar 2018   Prob (F-statistic):               0.00\n",
      "Time:                        17:03:01   Log-Likelihood:                -8437.8\n",
      "No. Observations:                 898   AIC:                         1.690e+04\n",
      "Df Residuals:                     885   BIC:                         1.696e+04\n",
      "Df Model:                          12                                         \n",
      "Covariance Type:            nonrobust                                         \n",
      "==============================================================================\n",
      "                 coef    std err          t      P>|t|      [0.025      0.975]\n",
      "------------------------------------------------------------------------------\n",
      "const        -86.5588    104.879     -0.825      0.409    -292.399     119.282\n",
      "x1            46.5032      2.318     20.066      0.000      41.955      51.052\n",
      "x2             0.7570      0.435      1.741      0.082      -0.096       1.610\n",
      "x3           3.08e-05   1.92e-05      1.605      0.109   -6.87e-06    6.85e-05\n",
      "x4            -1.7383      0.183     -9.490      0.000      -2.098      -1.379\n",
      "x5            -0.9375      0.310     -3.022      0.003      -1.546      -0.329\n",
      "x6             0.0072      0.001     13.819      0.000       0.006       0.008\n",
      "x7            66.4345     10.525      6.312      0.000      45.778      87.091\n",
      "x8             1.1330      0.125      9.097      0.000       0.889       1.377\n",
      "x9            -9.7462      0.497    -19.610      0.000     -10.722      -8.771\n",
      "x10          -92.0671      7.386    -12.464      0.000    -106.564     -77.570\n",
      "x11           -6.3864      0.648     -9.852      0.000      -7.659      -5.114\n",
      "x12         1.903e-05   1.53e-05      1.241      0.215   -1.11e-05    4.91e-05\n",
      "==============================================================================\n",
      "Omnibus:                     1911.919   Durbin-Watson:                   1.849\n",
      "Prob(Omnibus):                  0.000   Jarque-Bera (JB):          7003387.069\n",
      "Skew:                          16.996   Prob(JB):                         0.00\n",
      "Kurtosis:                     434.297   Cond. No.                     1.13e+08\n",
      "==============================================================================\n",
      "\n",
      "Warnings:\n",
      "[1] Standard Errors assume that the covariance matrix of the errors is correctly specified.\n",
      "[2] The condition number is large, 1.13e+08. This might indicate that there are\n",
      "strong multicollinearity or other numerical problems.\n"
     ]
    }
   ],
   "source": [
    "#problem 1_3 adding new features \n",
    "print(\"-------------problem_1_3--------------\")\n",
    "hashes = []\n",
    "for elements in Tweet_details['entities']:\n",
    "    hashes.append(elements)\n",
    "Hashtags = pd.DataFrame.from_records(hashes)\n",
    "hashtags_per_tweet = np.zeros((len(tweets),1))\n",
    "x = 0\n",
    "for elements in Hashtags.hashtags:\n",
    "    for elements2 in elements:\n",
    "        hashtags_per_tweet[x] += 1\n",
    "    x = x+1\n",
    "    \n",
    "n_hashtags = np.zeros((n_bins,1))\n",
    "sum_favourited = np.zeros((n_bins,1))\n",
    "sum_friends = np.zeros((n_bins,1))\n",
    "n_verified_users = np.zeros((n_bins,1))\n",
    "sum_citations = np.zeros((n_bins,1))\n",
    "sum_ranking_score = np.zeros((n_bins,1))\n",
    "sum_statuses_count = np.zeros((n_bins,1))\n",
    "sum_influential = np.zeros((n_bins,1))\n",
    "sum_matching = np.zeros((n_bins,1))\n",
    "\n",
    "\n",
    "index = 0\n",
    "for Time in Time_stamps:\n",
    "    if (Time[3]>2014):\n",
    "        idx = (Time[0]-tweet_initial[0])*31*24 + (Time[1]-tweet_initial[1])*24 + (Time[2]-tweet_initial[2])\n",
    "        n_hashtags[idx] += hashtags_per_tweet[index]\n",
    "        sum_favourited[idx] += Tweet_details.favorite_count[index]\n",
    "        sum_friends[idx] += tweet_user.friends_count[index]\n",
    "        n_verified_users[idx] += tweet_user.verified[index]*1\n",
    "        sum_citations[idx] += tweets.metrics[index]['citations']['total']\n",
    "        sum_ranking_score[idx] += tweets.metrics[index]['ranking_score'] \n",
    "        sum_influential[idx] += tweets.metrics[index]['citations']['influential']\n",
    "        sum_matching[idx] += tweets.metrics[index]['citations']['matching']\n",
    "        sum_statuses_count[idx] += tweet_user.statuses_count[index]\n",
    "        \n",
    "    index +=1\n",
    "    \n",
    "    \n",
    "    \n",
    "new_features = np.concatenate((n_tweets[0:-1], n_retweets[0:-1],n_followers[0:-1],\n",
    "                                 n_hashtags[0:-1], sum_favourited[0:-1],sum_friends[0:-1],\n",
    "                                 n_verified_users[0:-1], sum_citations[0:-1], sum_ranking_score[0:-1], \n",
    "                                 sum_influential[0:-1],sum_matching[0:-1],\n",
    "                                 sum_statuses_count[0:-1]), axis=1)\n",
    "\n",
    "new_model2 = reg_m(target, new_features)\n",
    "print('hastag #', hashtag)\n",
    "print(new_model2.summary())"
   ]
  },
  {
   "cell_type": "code",
   "execution_count": 4,
   "metadata": {},
   "outputs": [
    {
     "name": "stderr",
     "output_type": "stream",
     "text": [
      "C:\\Users\\tians\\Anaconda3\\lib\\site-packages\\ipykernel_launcher.py:3: RuntimeWarning: divide by zero encountered in log10\n",
      "  This is separate from the ipykernel package so we can avoid doing imports until\n"
     ]
    },
    {
     "data": {
      "image/png": "[encoded data removed]",
      "text/plain": [
       "<matplotlib.figure.Figure at 0x147799f6cf8>"
      ]
     },
     "metadata": {},
     "output_type": "display_data"
    },
    {
     "name": "stderr",
     "output_type": "stream",
     "text": [
      "C:\\Users\\tians\\Anaconda3\\lib\\site-packages\\ipykernel_launcher.py:9: RuntimeWarning: divide by zero encountered in log10\n",
      "  if __name__ == '__main__':\n"
     ]
    },
    {
     "data": {
      "image/png": "[encoded data removed]",
      "text/plain": [
       "<matplotlib.figure.Figure at 0x144f5696358>"
      ]
     },
     "metadata": {},
     "output_type": "display_data"
    },
    {
     "name": "stderr",
     "output_type": "stream",
     "text": [
      "C:\\Users\\tians\\Anaconda3\\lib\\site-packages\\ipykernel_launcher.py:16: RuntimeWarning: divide by zero encountered in log10\n",
      "  app.launch_new_instance()\n"
     ]
    },
    {
     "data": {
      "image/png": "[encoded data removed]",
      "text/plain": [
       "<matplotlib.figure.Figure at 0x1477b8e25f8>"
      ]
     },
     "metadata": {},
     "output_type": "display_data"
    }
   ],
   "source": [
    "# pick 3 most significant features: \n",
    "plt.clf()\n",
    "plt.scatter(np.log10(new_features[0:,0]),np.log10(target))\n",
    "plt.xlabel('Number of tweets')\n",
    "plt.ylabel('Predictant')\n",
    "plt.show()\n",
    "\n",
    "plt.clf()\n",
    "plt.scatter(np.log10(new_features[0:,5]),np.log10(target))\n",
    "plt.xlabel('Number of verified friends')\n",
    "plt.ylabel('Predictant')\n",
    "plt.show()\n",
    "\n",
    "\n",
    "plt.clf()\n",
    "plt.scatter(np.log10(new_features[0:,8]),np.log10(target))\n",
    "plt.xlabel('Influence')\n",
    "plt.ylabel('Predictant')\n",
    "#plt.axis('equal')\n",
    "plt.show()"
   ]
  },
  {
   "cell_type": "code",
   "execution_count": null,
   "metadata": {},
   "outputs": [],
   "source": []
  }
 ],
 "metadata": {
  "kernelspec": {
   "display_name": "Python 3",
   "language": "python",
   "name": "python3"
  },
  "language_info": {
   "codemirror_mode": {
    "name": "ipython",
    "version": 3
   },
   "file_extension": ".py",
   "mimetype": "text/x-python",
   "name": "python",
   "nbconvert_exporter": "python",
   "pygments_lexer": "ipython3",
   "version": "3.6.4"
  }
 },
 "nbformat": 4,
 "nbformat_minor": 2
}
