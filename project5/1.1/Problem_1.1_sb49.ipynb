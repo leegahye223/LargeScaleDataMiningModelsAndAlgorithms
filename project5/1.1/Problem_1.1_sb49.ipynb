{
 "cells": [
  {
   "cell_type": "markdown",
   "metadata": {},
   "source": [
    "### Hashtag: sb49"
   ]
  },
  {
   "cell_type": "markdown",
   "metadata": {},
   "source": [
    "#### Problem 1.1"
   ]
  },
  {
   "cell_type": "code",
   "execution_count": 1,
   "metadata": {},
   "outputs": [],
   "source": [
    "import json\n",
    "import numpy as np\n",
    "import matplotlib.pyplot as plt"
   ]
  },
  {
   "cell_type": "code",
   "execution_count": 2,
   "metadata": {},
   "outputs": [
    {
     "name": "stdout",
     "output_type": "stream",
     "text": [
      "tweets_#sb49.txt\n",
      "('Average number of tweets/hour:', 1420.8780068728522)\n",
      "('Average number of followers of users posting the tweets:', 10267.31684948685)\n",
      "('Average number of retweets:', 2.5111487863247035)\n"
     ]
    }
   ],
   "source": [
    "hashtags = ['#gohawks','#gopatriots','#nfl','#patriots','#sb49','#superbowl']\n",
    "tag = 'tweets_#sb49.txt'\n",
    "print (tag)\n",
    "\n",
    "f = open(tag)\n",
    "line = f.readline()\n",
    "tweets = []\n",
    "num_followers = []\n",
    "num_retweets = []\n",
    "citation_date = []\n",
    "\n",
    "while len(line)!=0:\n",
    "    tweet = json.loads(line)\n",
    "    tweets.append(tweet)\n",
    "    num_followers.append(tweet['author']['followers'])\n",
    "    num_retweets.append(tweet['metrics']['citations']['total'])\n",
    "    citation_date.append(tweet['citation_date'])\n",
    "    line = f.readline()\n",
    "\n",
    "num_tweets = len(tweets)\n",
    "\n",
    "## average number of tweets per hour\n",
    "min_time = citation_date[0]\n",
    "max_time = citation_date[-1]\n",
    "time_interval = ((max_time - min_time) / 3600)+0.00\n",
    "avg_tweets = num_tweets / time_interval\n",
    "print ('Average number of tweets/hour:',avg_tweets)\n",
    "\n",
    "#average number of followers of users posting the tweets \n",
    "avg_num_follwer = float(sum(num_followers)) / len(num_followers)\n",
    "print ('Average number of followers of users posting the tweets:',avg_num_follwer)\n",
    "\n",
    "# average number of retweets\n",
    "avg_num_retweets = float(sum(num_retweets)) / len(num_retweets)\n",
    "print ('Average number of retweets:',avg_num_retweets)"
   ]
  }
 ],
 "metadata": {
  "kernelspec": {
   "display_name": "Python 3",
   "language": "python",
   "name": "python3"
  },
  "language_info": {
   "codemirror_mode": {
    "name": "ipython",
    "version": 3
   },
   "file_extension": ".py",
   "mimetype": "text/x-python",
   "name": "python",
   "nbconvert_exporter": "python",
   "pygments_lexer": "ipython3",
   "version": "3.6.4"
  }
 },
 "nbformat": 4,
 "nbformat_minor": 2
}
